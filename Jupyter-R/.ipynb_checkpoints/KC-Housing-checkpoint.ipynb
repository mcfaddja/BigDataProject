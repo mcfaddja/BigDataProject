{
 "cells": [
  {
   "cell_type": "markdown",
   "metadata": {},
   "source": [
    "# King County Housing Prices\n",
    "### *Sruthi Jogi, Jonathan McFadden, Angela Zhao*\n",
    "**TCSS-551: Big Data Analytics** -:- **_Autumn 2017_**\n",
    "\n",
    "## Introduction\n",
    "\n",
    "\n",
    "### Overview\n",
    "\n",
    "For our final project, we have chosen to analyze data covering housing sales in King County.  To do this, we are using the data from the **Kaggle** *King County House Sales Prediction* page at\n",
    "\n",
    "<center>https://www.kaggle.com/harlfoxem/housesalesprediction</center>\n",
    "\n",
    "From this page, we sign-up for an account (*free, but required for downloading*) and then download the *zip* file containing the *CSV* file with the data.\n",
    "\n",
    "Our goal is to use this data to create models for home sales in King County based on the feature information provided in the obtained data file.  Our eventual goal is two-fold.  First, we wish to create a model or models which will enable us to quantitatively predict house sale prices, using this data set as the basis for our model or models.  Our other goal is to determine, based on the obtained data, which features are most important to the sale price of a house.\n",
    "\n",
    "### Data File\n",
    "\n",
    "Our first task is to import, examine, and then give an overall description of the data.  We are especially interested in the size and descriptive contents of the data file.  Specifially, we want to know the number of sales contined within the data file and, especially, what parameters the data file uses to describe each house sale.  Furthermore, we want to check the import to ensure that the data was initially complete, that it was then imported correctly, and that **_R_** is interpreting the imported data properly.\n",
    "\n",
    "#### Import and First-Look\n",
    "\n",
    "We begin by importing the data file into the '**_houseDF_**( )' data frame."
   ]
  },
  {
   "cell_type": "code",
   "execution_count": 1,
   "metadata": {
    "collapsed": true
   },
   "outputs": [],
   "source": [
    "houseDF <- read.csv(\"../houseData.csv\")"
   ]
  },
  {
   "cell_type": "markdown",
   "metadata": {},
   "source": [
    "We are now interested in the number of data-points contined within the data file.  Thus, we want to see how many row **_R_** has imported."
   ]
  },
  {
   "cell_type": "code",
   "execution_count": 5,
   "metadata": {},
   "outputs": [
    {
     "data": {
      "text/html": [
       "21613"
      ],
      "text/latex": [
       "21613"
      ],
      "text/markdown": [
       "21613"
      ],
      "text/plain": [
       "[1] 21613"
      ]
     },
     "metadata": {},
     "output_type": "display_data"
    }
   ],
   "source": [
    "nrow(houseDF)"
   ]
  },
  {
   "cell_type": "markdown",
   "metadata": {},
   "source": [
    "We also want to see how many descriptors the imported data uses to describe each house sale.  Thus we want to see how many columns **_R_** has imported."
   ]
  },
  {
   "cell_type": "code",
   "execution_count": 6,
   "metadata": {
    "scrolled": true
   },
   "outputs": [
    {
     "data": {
      "text/html": [
       "21"
      ],
      "text/latex": [
       "21"
      ],
      "text/markdown": [
       "21"
      ],
      "text/plain": [
       "[1] 21"
      ]
     },
     "metadata": {},
     "output_type": "display_data"
    }
   ],
   "source": [
    "ncol(houseDF)"
   ]
  },
  {
   "cell_type": "markdown",
   "metadata": {},
   "source": [
    "as well as what the labels for those columns are"
   ]
  },
  {
   "cell_type": "code",
   "execution_count": 7,
   "metadata": {},
   "outputs": [
    {
     "data": {
      "text/html": [
       "<ol class=list-inline>\n",
       "\t<li>'id'</li>\n",
       "\t<li>'date'</li>\n",
       "\t<li>'price'</li>\n",
       "\t<li>'bedrooms'</li>\n",
       "\t<li>'bathrooms'</li>\n",
       "\t<li>'sqft_living'</li>\n",
       "\t<li>'sqft_lot'</li>\n",
       "\t<li>'floors'</li>\n",
       "\t<li>'waterfront'</li>\n",
       "\t<li>'view'</li>\n",
       "\t<li>'condition'</li>\n",
       "\t<li>'grade'</li>\n",
       "\t<li>'sqft_above'</li>\n",
       "\t<li>'sqft_basement'</li>\n",
       "\t<li>'yr_built'</li>\n",
       "\t<li>'yr_renovated'</li>\n",
       "\t<li>'zipcode'</li>\n",
       "\t<li>'lat'</li>\n",
       "\t<li>'long'</li>\n",
       "\t<li>'sqft_living15'</li>\n",
       "\t<li>'sqft_lot15'</li>\n",
       "</ol>\n"
      ],
      "text/latex": [
       "\\begin{enumerate*}\n",
       "\\item 'id'\n",
       "\\item 'date'\n",
       "\\item 'price'\n",
       "\\item 'bedrooms'\n",
       "\\item 'bathrooms'\n",
       "\\item 'sqft\\_living'\n",
       "\\item 'sqft\\_lot'\n",
       "\\item 'floors'\n",
       "\\item 'waterfront'\n",
       "\\item 'view'\n",
       "\\item 'condition'\n",
       "\\item 'grade'\n",
       "\\item 'sqft\\_above'\n",
       "\\item 'sqft\\_basement'\n",
       "\\item 'yr\\_built'\n",
       "\\item 'yr\\_renovated'\n",
       "\\item 'zipcode'\n",
       "\\item 'lat'\n",
       "\\item 'long'\n",
       "\\item 'sqft\\_living15'\n",
       "\\item 'sqft\\_lot15'\n",
       "\\end{enumerate*}\n"
      ],
      "text/markdown": [
       "1. 'id'\n",
       "2. 'date'\n",
       "3. 'price'\n",
       "4. 'bedrooms'\n",
       "5. 'bathrooms'\n",
       "6. 'sqft_living'\n",
       "7. 'sqft_lot'\n",
       "8. 'floors'\n",
       "9. 'waterfront'\n",
       "10. 'view'\n",
       "11. 'condition'\n",
       "12. 'grade'\n",
       "13. 'sqft_above'\n",
       "14. 'sqft_basement'\n",
       "15. 'yr_built'\n",
       "16. 'yr_renovated'\n",
       "17. 'zipcode'\n",
       "18. 'lat'\n",
       "19. 'long'\n",
       "20. 'sqft_living15'\n",
       "21. 'sqft_lot15'\n",
       "\n",
       "\n"
      ],
      "text/plain": [
       " [1] \"id\"            \"date\"          \"price\"         \"bedrooms\"     \n",
       " [5] \"bathrooms\"     \"sqft_living\"   \"sqft_lot\"      \"floors\"       \n",
       " [9] \"waterfront\"    \"view\"          \"condition\"     \"grade\"        \n",
       "[13] \"sqft_above\"    \"sqft_basement\" \"yr_built\"      \"yr_renovated\" \n",
       "[17] \"zipcode\"       \"lat\"           \"long\"          \"sqft_living15\"\n",
       "[21] \"sqft_lot15\"   "
      ]
     },
     "metadata": {},
     "output_type": "display_data"
    }
   ],
   "source": [
    "colnames(houseDF)"
   ]
  },
  {
   "cell_type": "markdown",
   "metadata": {},
   "source": []
  },
  {
   "cell_type": "code",
   "execution_count": null,
   "metadata": {
    "collapsed": true
   },
   "outputs": [],
   "source": []
  }
 ],
 "metadata": {
  "kernelspec": {
   "display_name": "R",
   "language": "R",
   "name": "ir"
  },
  "language_info": {
   "codemirror_mode": "r",
   "file_extension": ".r",
   "mimetype": "text/x-r-source",
   "name": "R",
   "pygments_lexer": "r",
   "version": "3.4.2"
  }
 },
 "nbformat": 4,
 "nbformat_minor": 2
}
